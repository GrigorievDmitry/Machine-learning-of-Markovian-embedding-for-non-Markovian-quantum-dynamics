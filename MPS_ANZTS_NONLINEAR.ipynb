{
  "nbformat": 4,
  "nbformat_minor": 0,
  "metadata": {
    "colab": {
      "name": "MPS_ANZTS_NONLINEAR.ipynb",
      "version": "0.3.2",
      "provenance": [],
      "collapsed_sections": [],
      "include_colab_link": true
    },
    "kernelspec": {
      "name": "python3",
      "display_name": "Python 3"
    },
    "accelerator": "GPU"
  },
  "cells": [
    {
      "cell_type": "markdown",
      "metadata": {
        "id": "view-in-github",
        "colab_type": "text"
      },
      "source": [
        "<a href=\"https://colab.research.google.com/github/GrigorievDmitry/Machine-learning-of-Markovian-embedding-for-non-Markovian-quantum-dynamics/blob/MPS_anzatz/MPS_ANZTS_NONLINEAR.ipynb\" target=\"_parent\"><img src=\"https://colab.research.google.com/assets/colab-badge.svg\" alt=\"Open In Colab\"/></a>"
      ]
    },
    {
      "cell_type": "code",
      "metadata": {
        "id": "YgobP2IgK8uP",
        "colab_type": "code",
        "colab": {}
      },
      "source": [
        "#import numpy as tf\n",
        "import tensorflow as tf\n",
        "import matplotlib as plt"
      ],
      "execution_count": 0,
      "outputs": []
    },
    {
      "cell_type": "code",
      "metadata": {
        "id": "jhJ8wWUdLMwo",
        "colab_type": "code",
        "colab": {}
      },
      "source": [
        "class tt():\n",
        "  \n",
        "  def __init__(self, psi_list):\n",
        "      self.psi = psi_list\n",
        "      self.lefts = []\n",
        "      self.rights = []\n",
        "      self.mids = [[tf.constant(0) for i in range(len(self.psi)-2)] for j in range(len(self.psi)-2)]\n",
        "  \n",
        "  def make_mids(self):\n",
        "      for i in range(1, len(self.psi)-1):\n",
        "        left = tf.einsum('ink,jnl->ijkl', self.psi[i], tf.conj(self.psi[i]))\n",
        "        self.mids[i-1][0] = left\n",
        "        for j in range(i+1, len(self.psi)-1):\n",
        "            vertice = tf.einsum('ink,jnl->ijkl', self.psi[n], tf.conj(self.psi[n]))\n",
        "            left = tf.einsum('ijkl,klnm->ijnm', left, vertice)\n",
        "            self.mids[i-1][j-1] = left\n",
        "  \n",
        "  def make_lefts(self):\n",
        "      left = tf.einsum('ij,ik->jk', self.psi[0], tf.conj(self.psi[0]))\n",
        "      self.lefts.append(left)\n",
        "      for n in range(0, len(self.psi)-2):\n",
        "          left = tf.einsum('ik,iknm->nm', left, self.mids[0][n])\n",
        "          self.lefts.append(left)\n",
        "      \n",
        "  def make_rights(self):\n",
        "      right = tf.einsum('ij,kj->ik', self.psi[-1], tf.conj(self.psi[-1]))\n",
        "      self.rights.append(right)\n",
        "      for n in range(0, len(self.psi)-2):\n",
        "          left = tf.einsum('ik,nmik->nm', right, self.mids[n][0])\n",
        "          self.lefts.append(left)\n",
        "          \n",
        "  def conv_dirtvs(self, i, j):\n",
        "      self.lefts[0] = left\n",
        "      for i in range (1,len(psi) - 1):\n",
        "          pass\n",
        "                       \n",
        "      \n",
        "      \n",
        "  \n",
        "  "
      ],
      "execution_count": 0,
      "outputs": []
    },
    {
      "cell_type": "code",
      "metadata": {
        "id": "flnswRAFLuCn",
        "colab_type": "code",
        "colab": {}
      },
      "source": [
        "tf.reset_default_graph()\n",
        "\n",
        "psi = []\n",
        "psi.append(tf.constant(np.random.randn(2, 4)))\n",
        "for i in range(10):\n",
        "    psi.append(tf.constant(np.random.randn(4, 2, 4)))\n",
        "psi.append(tf.constant(np.random.randn(4, 2)))\n",
        "state = tt(psi)\n",
        "state.make_mids()\n",
        "out = state.mids"
      ],
      "execution_count": 0,
      "outputs": []
    },
    {
      "cell_type": "code",
      "metadata": {
        "id": "Gpi66YcInbk5",
        "colab_type": "code",
        "colab": {
          "base_uri": "https://localhost:8080/",
          "height": 34
        },
        "outputId": "8c9397fe-3f38-4c7b-d0a5-4d2be2186f88"
      },
      "source": [
        "sess = tf.Session()\n",
        "sess.run(out)[1][9].shape"
      ],
      "execution_count": 92,
      "outputs": [
        {
          "output_type": "execute_result",
          "data": {
            "text/plain": [
              "(4, 4, 4, 4)"
            ]
          },
          "metadata": {
            "tags": []
          },
          "execution_count": 92
        }
      ]
    },
    {
      "cell_type": "code",
      "metadata": {
        "id": "w7ZtB7TOn6f6",
        "colab_type": "code",
        "colab": {
          "base_uri": "https://localhost:8080/",
          "height": 1717
        },
        "outputId": "3bf6eaa3-6512-4866-c7a1-6f298e9ded74"
      },
      "source": [
        "out"
      ],
      "execution_count": 82,
      "outputs": [
        {
          "output_type": "execute_result",
          "data": {
            "text/plain": [
              "[[<tf.Tensor 'einsum/transpose_2:0' shape=(4, 4, 4, 4) dtype=float64>,\n",
              "  <tf.Tensor 'einsum_2/transpose_2:0' shape=(4, 4, 4, 4) dtype=float64>,\n",
              "  <tf.Tensor 'einsum_4/transpose_2:0' shape=(4, 4, 4, 4) dtype=float64>,\n",
              "  <tf.Tensor 'einsum_6/transpose_2:0' shape=(4, 4, 4, 4) dtype=float64>,\n",
              "  <tf.Tensor 'einsum_8/transpose_2:0' shape=(4, 4, 4, 4) dtype=float64>,\n",
              "  <tf.Tensor 'einsum_10/transpose_2:0' shape=(4, 4, 4, 4) dtype=float64>,\n",
              "  <tf.Tensor 'einsum_12/transpose_2:0' shape=(4, 4, 4, 4) dtype=float64>,\n",
              "  <tf.Tensor 'einsum_14/transpose_2:0' shape=(4, 4, 4, 4) dtype=float64>,\n",
              "  <tf.Tensor 'einsum_16/transpose_2:0' shape=(4, 4, 4, 4) dtype=float64>,\n",
              "  <tf.Tensor 'einsum_18/transpose_2:0' shape=(4, 4, 4, 4) dtype=float64>],\n",
              " [<tf.Tensor 'einsum_19/transpose_2:0' shape=(4, 4, 4, 4) dtype=float64>,\n",
              "  0,\n",
              "  <tf.Tensor 'einsum_21/transpose_2:0' shape=(4, 4, 4, 4) dtype=float64>,\n",
              "  <tf.Tensor 'einsum_23/transpose_2:0' shape=(4, 4, 4, 4) dtype=float64>,\n",
              "  <tf.Tensor 'einsum_25/transpose_2:0' shape=(4, 4, 4, 4) dtype=float64>,\n",
              "  <tf.Tensor 'einsum_27/transpose_2:0' shape=(4, 4, 4, 4) dtype=float64>,\n",
              "  <tf.Tensor 'einsum_29/transpose_2:0' shape=(4, 4, 4, 4) dtype=float64>,\n",
              "  <tf.Tensor 'einsum_31/transpose_2:0' shape=(4, 4, 4, 4) dtype=float64>,\n",
              "  <tf.Tensor 'einsum_33/transpose_2:0' shape=(4, 4, 4, 4) dtype=float64>,\n",
              "  <tf.Tensor 'einsum_35/transpose_2:0' shape=(4, 4, 4, 4) dtype=float64>],\n",
              " [<tf.Tensor 'einsum_36/transpose_2:0' shape=(4, 4, 4, 4) dtype=float64>,\n",
              "  0,\n",
              "  0,\n",
              "  <tf.Tensor 'einsum_38/transpose_2:0' shape=(4, 4, 4, 4) dtype=float64>,\n",
              "  <tf.Tensor 'einsum_40/transpose_2:0' shape=(4, 4, 4, 4) dtype=float64>,\n",
              "  <tf.Tensor 'einsum_42/transpose_2:0' shape=(4, 4, 4, 4) dtype=float64>,\n",
              "  <tf.Tensor 'einsum_44/transpose_2:0' shape=(4, 4, 4, 4) dtype=float64>,\n",
              "  <tf.Tensor 'einsum_46/transpose_2:0' shape=(4, 4, 4, 4) dtype=float64>,\n",
              "  <tf.Tensor 'einsum_48/transpose_2:0' shape=(4, 4, 4, 4) dtype=float64>,\n",
              "  <tf.Tensor 'einsum_50/transpose_2:0' shape=(4, 4, 4, 4) dtype=float64>],\n",
              " [<tf.Tensor 'einsum_51/transpose_2:0' shape=(4, 4, 4, 4) dtype=float64>,\n",
              "  0,\n",
              "  0,\n",
              "  0,\n",
              "  <tf.Tensor 'einsum_53/transpose_2:0' shape=(4, 4, 4, 4) dtype=float64>,\n",
              "  <tf.Tensor 'einsum_55/transpose_2:0' shape=(4, 4, 4, 4) dtype=float64>,\n",
              "  <tf.Tensor 'einsum_57/transpose_2:0' shape=(4, 4, 4, 4) dtype=float64>,\n",
              "  <tf.Tensor 'einsum_59/transpose_2:0' shape=(4, 4, 4, 4) dtype=float64>,\n",
              "  <tf.Tensor 'einsum_61/transpose_2:0' shape=(4, 4, 4, 4) dtype=float64>,\n",
              "  <tf.Tensor 'einsum_63/transpose_2:0' shape=(4, 4, 4, 4) dtype=float64>],\n",
              " [<tf.Tensor 'einsum_64/transpose_2:0' shape=(4, 4, 4, 4) dtype=float64>,\n",
              "  0,\n",
              "  0,\n",
              "  0,\n",
              "  0,\n",
              "  <tf.Tensor 'einsum_66/transpose_2:0' shape=(4, 4, 4, 4) dtype=float64>,\n",
              "  <tf.Tensor 'einsum_68/transpose_2:0' shape=(4, 4, 4, 4) dtype=float64>,\n",
              "  <tf.Tensor 'einsum_70/transpose_2:0' shape=(4, 4, 4, 4) dtype=float64>,\n",
              "  <tf.Tensor 'einsum_72/transpose_2:0' shape=(4, 4, 4, 4) dtype=float64>,\n",
              "  <tf.Tensor 'einsum_74/transpose_2:0' shape=(4, 4, 4, 4) dtype=float64>],\n",
              " [<tf.Tensor 'einsum_75/transpose_2:0' shape=(4, 4, 4, 4) dtype=float64>,\n",
              "  0,\n",
              "  0,\n",
              "  0,\n",
              "  0,\n",
              "  0,\n",
              "  <tf.Tensor 'einsum_77/transpose_2:0' shape=(4, 4, 4, 4) dtype=float64>,\n",
              "  <tf.Tensor 'einsum_79/transpose_2:0' shape=(4, 4, 4, 4) dtype=float64>,\n",
              "  <tf.Tensor 'einsum_81/transpose_2:0' shape=(4, 4, 4, 4) dtype=float64>,\n",
              "  <tf.Tensor 'einsum_83/transpose_2:0' shape=(4, 4, 4, 4) dtype=float64>],\n",
              " [<tf.Tensor 'einsum_84/transpose_2:0' shape=(4, 4, 4, 4) dtype=float64>,\n",
              "  0,\n",
              "  0,\n",
              "  0,\n",
              "  0,\n",
              "  0,\n",
              "  0,\n",
              "  <tf.Tensor 'einsum_86/transpose_2:0' shape=(4, 4, 4, 4) dtype=float64>,\n",
              "  <tf.Tensor 'einsum_88/transpose_2:0' shape=(4, 4, 4, 4) dtype=float64>,\n",
              "  <tf.Tensor 'einsum_90/transpose_2:0' shape=(4, 4, 4, 4) dtype=float64>],\n",
              " [<tf.Tensor 'einsum_91/transpose_2:0' shape=(4, 4, 4, 4) dtype=float64>,\n",
              "  0,\n",
              "  0,\n",
              "  0,\n",
              "  0,\n",
              "  0,\n",
              "  0,\n",
              "  0,\n",
              "  <tf.Tensor 'einsum_93/transpose_2:0' shape=(4, 4, 4, 4) dtype=float64>,\n",
              "  <tf.Tensor 'einsum_95/transpose_2:0' shape=(4, 4, 4, 4) dtype=float64>],\n",
              " [<tf.Tensor 'einsum_96/transpose_2:0' shape=(4, 4, 4, 4) dtype=float64>,\n",
              "  0,\n",
              "  0,\n",
              "  0,\n",
              "  0,\n",
              "  0,\n",
              "  0,\n",
              "  0,\n",
              "  0,\n",
              "  <tf.Tensor 'einsum_98/transpose_2:0' shape=(4, 4, 4, 4) dtype=float64>],\n",
              " [<tf.Tensor 'einsum_99/transpose_2:0' shape=(4, 4, 4, 4) dtype=float64>,\n",
              "  0,\n",
              "  0,\n",
              "  0,\n",
              "  0,\n",
              "  0,\n",
              "  0,\n",
              "  0,\n",
              "  0,\n",
              "  0]]"
            ]
          },
          "metadata": {
            "tags": []
          },
          "execution_count": 82
        }
      ]
    },
    {
      "cell_type": "code",
      "metadata": {
        "id": "ofccqc_Wn91q",
        "colab_type": "code",
        "colab": {
          "base_uri": "https://localhost:8080/",
          "height": 34
        },
        "outputId": "319262b8-341c-475b-ecb6-c1bc88112d07"
      },
      "source": [
        "mids_i"
      ],
      "execution_count": 41,
      "outputs": [
        {
          "output_type": "execute_result",
          "data": {
            "text/plain": [
              "[[1], <tf.Tensor 'Const:0' shape=(2,) dtype=int32>]"
            ]
          },
          "metadata": {
            "tags": []
          },
          "execution_count": 41
        }
      ]
    },
    {
      "cell_type": "code",
      "metadata": {
        "id": "mM-s06kLn-35",
        "colab_type": "code",
        "colab": {}
      },
      "source": [
        "x = [[1,2],[3,4]]"
      ],
      "execution_count": 0,
      "outputs": []
    },
    {
      "cell_type": "code",
      "metadata": {
        "id": "BthRp9ZB1PVM",
        "colab_type": "code",
        "colab": {
          "base_uri": "https://localhost:8080/",
          "height": 164
        },
        "outputId": "0e34af2f-630a-4a20-80f3-45c09e52feb3"
      },
      "source": [
        "x[1,2]"
      ],
      "execution_count": 66,
      "outputs": [
        {
          "output_type": "error",
          "ename": "TypeError",
          "evalue": "ignored",
          "traceback": [
            "\u001b[0;31m---------------------------------------------------------------------------\u001b[0m",
            "\u001b[0;31mTypeError\u001b[0m                                 Traceback (most recent call last)",
            "\u001b[0;32m<ipython-input-66-70eb93c73ecb>\u001b[0m in \u001b[0;36m<module>\u001b[0;34m()\u001b[0m\n\u001b[0;32m----> 1\u001b[0;31m \u001b[0mx\u001b[0m\u001b[0;34m[\u001b[0m\u001b[0;36m1\u001b[0m\u001b[0;34m,\u001b[0m\u001b[0;36m2\u001b[0m\u001b[0;34m]\u001b[0m\u001b[0;34m\u001b[0m\u001b[0;34m\u001b[0m\u001b[0m\n\u001b[0m",
            "\u001b[0;31mTypeError\u001b[0m: list indices must be integers or slices, not tuple"
          ]
        }
      ]
    },
    {
      "cell_type": "code",
      "metadata": {
        "id": "0BPxUBkB1QwL",
        "colab_type": "code",
        "colab": {}
      },
      "source": [
        ""
      ],
      "execution_count": 0,
      "outputs": []
    }
  ]
}